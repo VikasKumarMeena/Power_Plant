{
 "cells": [
  {
   "cell_type": "markdown",
   "metadata": {
    "colab_type": "text",
    "id": "3cbb7fRy-eyr"
   },
   "source": [
    "# Artificial Neural Network"
   ]
  },
  {
   "cell_type": "markdown",
   "metadata": {
    "colab_type": "text",
    "id": "8sNDnxE2-pwE"
   },
   "source": [
    "### Importing the libraries"
   ]
  },
  {
   "cell_type": "code",
   "execution_count": 3,
   "metadata": {
    "colab": {},
    "colab_type": "code",
    "id": "lxChR1Rk-umf"
   },
   "outputs": [],
   "source": [
    "import numpy as np\n",
    "import pandas as pd\n",
    "import tensorflow as tf"
   ]
  },
  {
   "cell_type": "code",
   "execution_count": 4,
   "metadata": {
    "colab": {
     "base_uri": "https://localhost:8080/",
     "height": 34
    },
    "colab_type": "code",
    "id": "uBTqR3nacj0e",
    "outputId": "4c0bd183-e424-429a-9fba-ceb841c06888"
   },
   "outputs": [
    {
     "data": {
      "text/plain": [
       "'2.9.1'"
      ]
     },
     "execution_count": 4,
     "metadata": {},
     "output_type": "execute_result"
    }
   ],
   "source": [
    "tf.__version__"
   ]
  },
  {
   "cell_type": "markdown",
   "metadata": {
    "colab_type": "text",
    "id": "AG3FQEch-yuA"
   },
   "source": [
    "## Part 1 - Data Preprocessing"
   ]
  },
  {
   "cell_type": "markdown",
   "metadata": {
    "colab_type": "text",
    "id": "-4zq8Mza_D9O"
   },
   "source": [
    "### Importing the dataset"
   ]
  },
  {
   "cell_type": "code",
   "execution_count": 5,
   "metadata": {
    "colab": {},
    "colab_type": "code",
    "id": "B9CV13Co_HHM"
   },
   "outputs": [],
   "source": [
    "dataset = pd.read_excel('Folds5x2_pp.xlsx')\n",
    "X = dataset.iloc[:, :-1].values\n",
    "y = dataset.iloc[:, -1].values"
   ]
  },
  {
   "cell_type": "markdown",
   "metadata": {
    "colab_type": "text",
    "id": "VC6omXel_Up0"
   },
   "source": [
    "### Splitting the dataset into the Training set and Test set"
   ]
  },
  {
   "cell_type": "code",
   "execution_count": 6,
   "metadata": {
    "colab": {},
    "colab_type": "code",
    "id": "L5edeb2r_agx"
   },
   "outputs": [],
   "source": [
    "from sklearn.model_selection import train_test_split\n",
    "X_train, X_test, y_train, y_test = train_test_split(X, y, test_size = 0.2, random_state = 0)"
   ]
  },
  {
   "cell_type": "markdown",
   "metadata": {
    "colab_type": "text",
    "id": "_mSLlAT9_eyI"
   },
   "source": [
    "## Part 2 - Building the ANN"
   ]
  },
  {
   "cell_type": "markdown",
   "metadata": {
    "colab_type": "text",
    "id": "CsBULd_f_wLY"
   },
   "source": [
    "### Initializing the ANN"
   ]
  },
  {
   "cell_type": "code",
   "execution_count": 7,
   "metadata": {
    "colab": {},
    "colab_type": "code",
    "id": "J6Hd97Ls__Nz"
   },
   "outputs": [],
   "source": [
    "ann = tf.keras.models.Sequential()"
   ]
  },
  {
   "cell_type": "markdown",
   "metadata": {
    "colab_type": "text",
    "id": "iitAFJS_ABUn"
   },
   "source": [
    "### Adding the input layer and the first hidden layer"
   ]
  },
  {
   "cell_type": "code",
   "execution_count": 8,
   "metadata": {
    "colab": {},
    "colab_type": "code",
    "id": "ksO_Vv40AHix"
   },
   "outputs": [],
   "source": [
    "ann.add(tf.keras.layers.Dense(units=6, activation='relu'))"
   ]
  },
  {
   "cell_type": "markdown",
   "metadata": {
    "colab_type": "text",
    "id": "-lb4kK_wAKbs"
   },
   "source": [
    "### Adding the second hidden layer"
   ]
  },
  {
   "cell_type": "code",
   "execution_count": 9,
   "metadata": {
    "colab": {},
    "colab_type": "code",
    "id": "c2357OqEAQOQ"
   },
   "outputs": [],
   "source": [
    "ann.add(tf.keras.layers.Dense(units=6, activation='relu'))"
   ]
  },
  {
   "cell_type": "markdown",
   "metadata": {
    "colab_type": "text",
    "id": "jwMOmKb3AdBY"
   },
   "source": [
    "### Adding the output layer"
   ]
  },
  {
   "cell_type": "code",
   "execution_count": 10,
   "metadata": {
    "colab": {},
    "colab_type": "code",
    "id": "YFATpzsUAkLL"
   },
   "outputs": [],
   "source": [
    "ann.add(tf.keras.layers.Dense(units=1))"
   ]
  },
  {
   "cell_type": "markdown",
   "metadata": {
    "colab_type": "text",
    "id": "fq7e4fF6A1yy"
   },
   "source": [
    "## Part 3 - Training the ANN"
   ]
  },
  {
   "cell_type": "markdown",
   "metadata": {
    "colab_type": "text",
    "id": "qDeylAs2An25"
   },
   "source": [
    "### Compiling the ANN"
   ]
  },
  {
   "cell_type": "code",
   "execution_count": 11,
   "metadata": {
    "colab": {},
    "colab_type": "code",
    "id": "pesgbWlCAtB4"
   },
   "outputs": [],
   "source": [
    "ann.compile(optimizer = 'adam', loss = 'mean_squared_error')"
   ]
  },
  {
   "cell_type": "markdown",
   "metadata": {
    "colab_type": "text",
    "id": "YjVuiybYOo7r"
   },
   "source": [
    "### Training the ANN model on the Training set"
   ]
  },
  {
   "cell_type": "code",
   "execution_count": 12,
   "metadata": {
    "colab": {
     "base_uri": "https://localhost:8080/",
     "height": 1000
    },
    "colab_type": "code",
    "id": "c_vV-tiiA5zn",
    "outputId": "4a2b6ee6-ed75-4698-9069-b250e613803f"
   },
   "outputs": [
    {
     "name": "stdout",
     "output_type": "stream",
     "text": [
      "Epoch 1/100\n",
      "240/240 [==============================] - 2s 4ms/step - loss: 36486.7930\n",
      "Epoch 2/100\n",
      "240/240 [==============================] - 1s 4ms/step - loss: 256.6539\n",
      "Epoch 3/100\n",
      "240/240 [==============================] - 1s 4ms/step - loss: 245.2545\n",
      "Epoch 4/100\n",
      "240/240 [==============================] - 1s 4ms/step - loss: 231.0976\n",
      "Epoch 5/100\n",
      "240/240 [==============================] - 1s 4ms/step - loss: 215.2693\n",
      "Epoch 6/100\n",
      "240/240 [==============================] - 1s 4ms/step - loss: 197.1243\n",
      "Epoch 7/100\n",
      "240/240 [==============================] - 1s 4ms/step - loss: 178.4234\n",
      "Epoch 8/100\n",
      "240/240 [==============================] - 1s 4ms/step - loss: 159.4960\n",
      "Epoch 9/100\n",
      "240/240 [==============================] - 1s 2ms/step - loss: 140.5039\n",
      "Epoch 10/100\n",
      "240/240 [==============================] - 1s 2ms/step - loss: 122.6608\n",
      "Epoch 11/100\n",
      "240/240 [==============================] - 1s 4ms/step - loss: 106.4623\n",
      "Epoch 12/100\n",
      "240/240 [==============================] - 1s 5ms/step - loss: 92.7739\n",
      "Epoch 13/100\n",
      "240/240 [==============================] - 1s 5ms/step - loss: 80.9649\n",
      "Epoch 14/100\n",
      "240/240 [==============================] - 1s 5ms/step - loss: 72.1789\n",
      "Epoch 15/100\n",
      "240/240 [==============================] - 1s 5ms/step - loss: 65.4520\n",
      "Epoch 16/100\n",
      "240/240 [==============================] - 1s 5ms/step - loss: 60.5903\n",
      "Epoch 17/100\n",
      "240/240 [==============================] - 1s 5ms/step - loss: 56.8154\n",
      "Epoch 18/100\n",
      "240/240 [==============================] - 1s 4ms/step - loss: 54.1677\n",
      "Epoch 19/100\n",
      "240/240 [==============================] - 1s 3ms/step - loss: 51.5960\n",
      "Epoch 20/100\n",
      "240/240 [==============================] - 1s 3ms/step - loss: 49.6684\n",
      "Epoch 21/100\n",
      "240/240 [==============================] - 1s 3ms/step - loss: 48.2517\n",
      "Epoch 22/100\n",
      "240/240 [==============================] - 1s 3ms/step - loss: 46.2478\n",
      "Epoch 23/100\n",
      "240/240 [==============================] - 1s 4ms/step - loss: 44.9054\n",
      "Epoch 24/100\n",
      "240/240 [==============================] - 1s 4ms/step - loss: 43.7993\n",
      "Epoch 25/100\n",
      "240/240 [==============================] - 1s 4ms/step - loss: 42.2766\n",
      "Epoch 26/100\n",
      "240/240 [==============================] - 1s 3ms/step - loss: 41.3079\n",
      "Epoch 27/100\n",
      "240/240 [==============================] - 0s 2ms/step - loss: 40.2872\n",
      "Epoch 28/100\n",
      "240/240 [==============================] - 1s 4ms/step - loss: 39.0280\n",
      "Epoch 29/100\n",
      "240/240 [==============================] - 1s 4ms/step - loss: 38.1854\n",
      "Epoch 30/100\n",
      "240/240 [==============================] - 1s 5ms/step - loss: 37.0995\n",
      "Epoch 31/100\n",
      "240/240 [==============================] - 1s 5ms/step - loss: 35.9290\n",
      "Epoch 32/100\n",
      "240/240 [==============================] - 1s 5ms/step - loss: 35.7427\n",
      "Epoch 33/100\n",
      "240/240 [==============================] - 1s 5ms/step - loss: 34.5616\n",
      "Epoch 34/100\n",
      "240/240 [==============================] - 1s 4ms/step - loss: 33.4321\n",
      "Epoch 35/100\n",
      "240/240 [==============================] - 1s 4ms/step - loss: 33.1471\n",
      "Epoch 36/100\n",
      "240/240 [==============================] - 1s 5ms/step - loss: 32.0848\n",
      "Epoch 37/100\n",
      "240/240 [==============================] - 1s 2ms/step - loss: 31.9260\n",
      "Epoch 38/100\n",
      "240/240 [==============================] - 1s 3ms/step - loss: 31.5013\n",
      "Epoch 39/100\n",
      "240/240 [==============================] - 1s 3ms/step - loss: 30.7906\n",
      "Epoch 40/100\n",
      "240/240 [==============================] - 1s 3ms/step - loss: 30.7918\n",
      "Epoch 41/100\n",
      "240/240 [==============================] - 1s 3ms/step - loss: 29.5483\n",
      "Epoch 42/100\n",
      "240/240 [==============================] - 1s 3ms/step - loss: 30.3511\n",
      "Epoch 43/100\n",
      "240/240 [==============================] - 1s 3ms/step - loss: 29.8363\n",
      "Epoch 44/100\n",
      "240/240 [==============================] - 0s 2ms/step - loss: 28.8729\n",
      "Epoch 45/100\n",
      "240/240 [==============================] - 1s 2ms/step - loss: 29.0790\n",
      "Epoch 46/100\n",
      "240/240 [==============================] - 1s 5ms/step - loss: 28.0820\n",
      "Epoch 47/100\n",
      "240/240 [==============================] - 1s 5ms/step - loss: 29.2309\n",
      "Epoch 48/100\n",
      "240/240 [==============================] - 1s 4ms/step - loss: 27.7898\n",
      "Epoch 49/100\n",
      "240/240 [==============================] - 1s 3ms/step - loss: 27.9485\n",
      "Epoch 50/100\n",
      "240/240 [==============================] - 1s 4ms/step - loss: 27.6495\n",
      "Epoch 51/100\n",
      "240/240 [==============================] - 1s 5ms/step - loss: 27.9120\n",
      "Epoch 52/100\n",
      "240/240 [==============================] - 1s 5ms/step - loss: 28.8571\n",
      "Epoch 53/100\n",
      "240/240 [==============================] - 1s 5ms/step - loss: 27.5885\n",
      "Epoch 54/100\n",
      "240/240 [==============================] - 1s 5ms/step - loss: 28.0827\n",
      "Epoch 55/100\n",
      "240/240 [==============================] - 1s 4ms/step - loss: 28.1437\n",
      "Epoch 56/100\n",
      "240/240 [==============================] - 1s 3ms/step - loss: 27.7663\n",
      "Epoch 57/100\n",
      "240/240 [==============================] - 1s 3ms/step - loss: 27.1288\n",
      "Epoch 58/100\n",
      "240/240 [==============================] - 1s 3ms/step - loss: 27.9096\n",
      "Epoch 59/100\n",
      "240/240 [==============================] - 1s 3ms/step - loss: 27.9728\n",
      "Epoch 60/100\n",
      "240/240 [==============================] - 1s 3ms/step - loss: 27.4585\n",
      "Epoch 61/100\n",
      "240/240 [==============================] - 1s 3ms/step - loss: 29.4631\n",
      "Epoch 62/100\n",
      "240/240 [==============================] - 1s 3ms/step - loss: 27.5254\n",
      "Epoch 63/100\n",
      "240/240 [==============================] - 0s 2ms/step - loss: 26.4655\n",
      "Epoch 64/100\n",
      "240/240 [==============================] - 1s 2ms/step - loss: 27.7018\n",
      "Epoch 65/100\n",
      "240/240 [==============================] - 1s 4ms/step - loss: 26.9374\n",
      "Epoch 66/100\n",
      "240/240 [==============================] - 1s 4ms/step - loss: 27.6608\n",
      "Epoch 67/100\n",
      "240/240 [==============================] - 1s 4ms/step - loss: 28.3620\n",
      "Epoch 68/100\n",
      "240/240 [==============================] - 1s 3ms/step - loss: 27.2890\n",
      "Epoch 69/100\n",
      "240/240 [==============================] - 1s 2ms/step - loss: 26.6798\n",
      "Epoch 70/100\n",
      "240/240 [==============================] - 1s 4ms/step - loss: 27.7952\n",
      "Epoch 71/100\n",
      "240/240 [==============================] - 1s 3ms/step - loss: 27.0603\n",
      "Epoch 72/100\n",
      "240/240 [==============================] - 1s 4ms/step - loss: 28.4034\n",
      "Epoch 73/100\n",
      "240/240 [==============================] - 1s 3ms/step - loss: 26.7964\n",
      "Epoch 74/100\n",
      "240/240 [==============================] - 1s 4ms/step - loss: 26.6900\n",
      "Epoch 75/100\n",
      "240/240 [==============================] - 1s 5ms/step - loss: 26.9143\n",
      "Epoch 76/100\n",
      "240/240 [==============================] - 1s 3ms/step - loss: 27.2897\n",
      "Epoch 77/100\n",
      "240/240 [==============================] - 1s 3ms/step - loss: 26.9545\n",
      "Epoch 78/100\n",
      "240/240 [==============================] - 1s 3ms/step - loss: 27.3117\n",
      "Epoch 79/100\n",
      "240/240 [==============================] - 1s 2ms/step - loss: 27.0732\n",
      "Epoch 80/100\n",
      "240/240 [==============================] - 1s 3ms/step - loss: 27.0239\n",
      "Epoch 81/100\n",
      "240/240 [==============================] - 1s 3ms/step - loss: 27.1443\n",
      "Epoch 82/100\n",
      "240/240 [==============================] - 1s 3ms/step - loss: 27.3655\n",
      "Epoch 83/100\n",
      "240/240 [==============================] - 1s 3ms/step - loss: 27.1215\n",
      "Epoch 84/100\n",
      "240/240 [==============================] - 1s 2ms/step - loss: 27.9968\n",
      "Epoch 85/100\n",
      "240/240 [==============================] - 1s 5ms/step - loss: 26.9506\n",
      "Epoch 86/100\n",
      "240/240 [==============================] - 1s 3ms/step - loss: 27.7301\n",
      "Epoch 87/100\n",
      "240/240 [==============================] - 1s 3ms/step - loss: 27.6044\n",
      "Epoch 88/100\n",
      "240/240 [==============================] - 1s 3ms/step - loss: 27.4582\n",
      "Epoch 89/100\n",
      "240/240 [==============================] - 1s 3ms/step - loss: 27.1634\n",
      "Epoch 90/100\n",
      "240/240 [==============================] - 1s 3ms/step - loss: 27.4612\n",
      "Epoch 91/100\n",
      "240/240 [==============================] - 1s 4ms/step - loss: 26.7385\n",
      "Epoch 92/100\n",
      "240/240 [==============================] - 1s 5ms/step - loss: 27.8180\n",
      "Epoch 93/100\n",
      "240/240 [==============================] - 1s 5ms/step - loss: 26.7868\n",
      "Epoch 94/100\n",
      "240/240 [==============================] - 1s 4ms/step - loss: 27.5984\n",
      "Epoch 95/100\n",
      "240/240 [==============================] - 1s 4ms/step - loss: 26.6084\n",
      "Epoch 96/100\n",
      "240/240 [==============================] - 1s 3ms/step - loss: 26.9993\n",
      "Epoch 97/100\n",
      "240/240 [==============================] - 1s 3ms/step - loss: 26.8173\n",
      "Epoch 98/100\n"
     ]
    },
    {
     "name": "stdout",
     "output_type": "stream",
     "text": [
      "240/240 [==============================] - 1s 3ms/step - loss: 27.1978\n",
      "Epoch 99/100\n",
      "240/240 [==============================] - 1s 3ms/step - loss: 26.6601\n",
      "Epoch 100/100\n",
      "240/240 [==============================] - 1s 3ms/step - loss: 26.9161\n"
     ]
    },
    {
     "data": {
      "text/plain": [
       "<keras.callbacks.History at 0x2107a9d2d30>"
      ]
     },
     "execution_count": 12,
     "metadata": {},
     "output_type": "execute_result"
    }
   ],
   "source": [
    "ann.fit(X_train, y_train, batch_size = 32, epochs = 100)"
   ]
  },
  {
   "cell_type": "markdown",
   "metadata": {
    "colab_type": "text",
    "id": "0H0zKKNEBLD5"
   },
   "source": [
    "### Predicting the results of the Test set"
   ]
  },
  {
   "cell_type": "code",
   "execution_count": 13,
   "metadata": {
    "colab": {
     "base_uri": "https://localhost:8080/",
     "height": 134
    },
    "colab_type": "code",
    "id": "IA0yApEmBG1X",
    "outputId": "cb981e1f-9204-4a2a-fece-9d66a6919189"
   },
   "outputs": [
    {
     "name": "stdout",
     "output_type": "stream",
     "text": [
      "60/60 [==============================] - 0s 2ms/step\n",
      "[[433.11 431.23]\n",
      " [464.28 460.01]\n",
      " [467.81 461.14]\n",
      " ...\n",
      " [475.04 473.26]\n",
      " [441.72 438.  ]\n",
      " [460.99 463.28]]\n"
     ]
    }
   ],
   "source": [
    "y_pred = ann.predict(X_test)\n",
    "np.set_printoptions(precision=2)\n",
    "print(np.concatenate((y_pred.reshape(len(y_pred),1), y_test.reshape(len(y_test),1)),1))"
   ]
  }
 ],
 "metadata": {
  "colab": {
   "collapsed_sections": [],
   "name": "Artificial Neural Network",
   "provenance": [],
   "toc_visible": true
  },
  "kernelspec": {
   "display_name": "Python 3 (ipykernel)",
   "language": "python",
   "name": "python3"
  },
  "language_info": {
   "codemirror_mode": {
    "name": "ipython",
    "version": 3
   },
   "file_extension": ".py",
   "mimetype": "text/x-python",
   "name": "python",
   "nbconvert_exporter": "python",
   "pygments_lexer": "ipython3",
   "version": "3.9.12"
  }
 },
 "nbformat": 4,
 "nbformat_minor": 1
}
